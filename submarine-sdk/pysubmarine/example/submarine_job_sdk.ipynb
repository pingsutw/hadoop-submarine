{
 "cells": [
  {
   "cell_type": "markdown",
   "metadata": {},
   "source": [
    "## Sample for Submarine Experiment SDK\n",
    "\n",
    "The notebook shows how to use Subamrine Experiment SDK to create, get, list, log, delete Submarine Experiment."
   ]
  },
  {
   "cell_type": "code",
   "execution_count": 2,
   "metadata": {
    "pycharm": {
     "is_executing": false
    }
   },
   "outputs": [],
   "source": [
    "from __future__ import print_function\n",
    "import submarine\n",
    "\n",
    "from submarine import JobLibrarySpec\n",
    "from submarine import JobTaskSpec\n",
    "from submarine import JobSpec"
   ]
  },
  {
   "cell_type": "markdown",
   "metadata": {},
   "source": [
    "### Create Submarine Client"
   ]
  },
  {
   "cell_type": "code",
   "execution_count": 7,
   "metadata": {
    "pycharm": {
     "is_executing": false,
     "name": "#%%\n"
    }
   },
   "outputs": [],
   "source": [
    "configuration = submarine.Configuration()\n",
    "configuration.host = 'http://192.168.103.9:8080/api'\n",
    "api_client = submarine.ApiClient(configuration=configuration)\n",
    "submarine_client = submarine.JobsApi(api_client=api_client)"
   ]
  },
  {
   "cell_type": "markdown",
   "metadata": {
    "pycharm": {
     "name": "#%% md\n"
    }
   },
   "source": [
    "### Define TFJob¶\n",
    "Define Submarine spec¶\n",
    "The demo only creates a worker of TFJob to run mnist sample."
   ]
  },
  {
   "cell_type": "code",
   "execution_count": 8,
   "metadata": {
    "pycharm": {
     "is_executing": false,
     "name": "#%%\n"
    }
   },
   "outputs": [],
   "source": [
    "jobLibrarySpec = JobLibrarySpec(name='tensorflow',\n",
    "                                version='2.1.0',\n",
    "                                image='gcr.io/kubeflow-ci/tf-mnist-with-summaries:1.0',\n",
    "                                cmd='python /var/tf_mnist/mnist_with_summaries.py'\n",
    "                                    ' --log_dir=/train/log --learning_rate=0.01'\n",
    "                                    ' --batch_size=150',\n",
    "                                env_vars={'ENV1': 'ENV1'})\n",
    "\n",
    "worker = JobTaskSpec(name='tensorlfow',\n",
    "                     image=None,\n",
    "                     cmd=None,\n",
    "                     env_vars=None,\n",
    "                     resources='cpu=4,memory=2048M',\n",
    "                     replicas=1)\n",
    "\n",
    "job_spec = JobSpec(name='mnist',\n",
    "               namespace='submarine',\n",
    "               library_spec=jobLibrarySpec,\n",
    "               task_specs={\"Worker\": worker})"
   ]
  },
  {
   "cell_type": "markdown",
   "metadata": {},
   "source": [
    "### Create experiment"
   ]
  },
  {
   "cell_type": "code",
   "execution_count": 19,
   "metadata": {
    "pycharm": {
     "name": "#%%\n"
    },
    "scrolled": true
   },
   "outputs": [
    {
     "data": {
      "text/plain": [
       "{'attributes': {},\n",
       " 'code': 200,\n",
       " 'result': {'acceptedTime': '2020-05-21T18:23:09.000+08:00',\n",
       "            'createdTime': None,\n",
       "            'finishedTime': None,\n",
       "            'jobId': 'job_1590056548552_0001',\n",
       "            'name': 'mnist',\n",
       "            'runningTime': None,\n",
       "            'spec': {'librarySpec': {'cmd': 'python '\n",
       "                                            '/var/tf_mnist/mnist_with_summaries.py '\n",
       "                                            '--log_dir=/train/log '\n",
       "                                            '--learning_rate=0.01 '\n",
       "                                            '--batch_size=150',\n",
       "                                     'envVars': {'ENV1': 'ENV1'},\n",
       "                                     'image': 'gcr.io/kubeflow-ci/tf-mnist-with-summaries:1.0',\n",
       "                                     'name': 'tensorflow',\n",
       "                                     'version': '2.1.0'},\n",
       "                     'name': 'mnist',\n",
       "                     'namespace': 'submarine',\n",
       "                     'projects': None,\n",
       "                     'taskSpecs': {'Worker': {'cmd': None,\n",
       "                                              'envVars': None,\n",
       "                                              'image': None,\n",
       "                                              'name': 'tensorlfow',\n",
       "                                              'replicas': 1,\n",
       "                                              'resourceMap': {'cpu': '4',\n",
       "                                                              'memory': '2048M'},\n",
       "                                              'resources': 'cpu=4,memory=2048M'}}},\n",
       "            'status': 'Accepted',\n",
       "            'uid': '10b226b9-3710-40e9-9f13-9322e03dcb8d'},\n",
       " 'success': True}"
      ]
     },
     "execution_count": 19,
     "metadata": {},
     "output_type": "execute_result"
    }
   ],
   "source": [
    "submarine_client.create_job(job_spec=job_spec)"
   ]
  },
  {
   "cell_type": "markdown",
   "metadata": {},
   "source": [
    "### Get the created experiment"
   ]
  },
  {
   "cell_type": "code",
   "execution_count": 20,
   "metadata": {
    "pycharm": {
     "name": "#%%\n"
    }
   },
   "outputs": [
    {
     "data": {
      "text/plain": [
       "{'attributes': {},\n",
       " 'code': 200,\n",
       " 'result': {'acceptedTime': '2020-05-21T18:23:09.000+08:00',\n",
       "            'createdTime': '2020-05-21T18:23:09.000+08:00',\n",
       "            'finishedTime': None,\n",
       "            'jobId': 'job_1590056548552_0001',\n",
       "            'name': 'mnist',\n",
       "            'runningTime': '2020-05-21T18:23:11.000+08:00',\n",
       "            'spec': {'librarySpec': {'cmd': 'python '\n",
       "                                            '/var/tf_mnist/mnist_with_summaries.py '\n",
       "                                            '--log_dir=/train/log '\n",
       "                                            '--learning_rate=0.01 '\n",
       "                                            '--batch_size=150',\n",
       "                                     'envVars': {'ENV1': 'ENV1'},\n",
       "                                     'image': 'gcr.io/kubeflow-ci/tf-mnist-with-summaries:1.0',\n",
       "                                     'name': 'tensorflow',\n",
       "                                     'version': '2.1.0'},\n",
       "                     'name': 'mnist',\n",
       "                     'namespace': 'submarine',\n",
       "                     'projects': None,\n",
       "                     'taskSpecs': {'Worker': {'cmd': None,\n",
       "                                              'envVars': None,\n",
       "                                              'image': None,\n",
       "                                              'name': 'tensorlfow',\n",
       "                                              'replicas': 1,\n",
       "                                              'resourceMap': {'cpu': '4',\n",
       "                                                              'memory': '2048M'},\n",
       "                                              'resources': 'cpu=4,memory=2048M'}}},\n",
       "            'status': 'Running',\n",
       "            'uid': '10b226b9-3710-40e9-9f13-9322e03dcb8d'},\n",
       " 'success': True}"
      ]
     },
     "execution_count": 20,
     "metadata": {},
     "output_type": "execute_result"
    }
   ],
   "source": [
    "id = 'job_1590056548552_0001'\n",
    "submarine_client.get_job(id)"
   ]
  },
  {
   "cell_type": "markdown",
   "metadata": {},
   "source": [
    "### List all running experiments"
   ]
  },
  {
   "cell_type": "code",
   "execution_count": 21,
   "metadata": {
    "pycharm": {
     "name": "#%%\n"
    }
   },
   "outputs": [
    {
     "data": {
      "text/plain": [
       "{'attributes': {},\n",
       " 'code': 200,\n",
       " 'result': [{'acceptedTime': '2020-05-21T18:23:09.000+08:00',\n",
       "             'createdTime': '2020-05-21T18:23:09.000+08:00',\n",
       "             'finishedTime': None,\n",
       "             'jobId': 'job_1590056548552_0001',\n",
       "             'name': 'mnist',\n",
       "             'runningTime': '2020-05-21T18:23:11.000+08:00',\n",
       "             'spec': {'librarySpec': {'cmd': 'python '\n",
       "                                             '/var/tf_mnist/mnist_with_summaries.py '\n",
       "                                             '--log_dir=/train/log '\n",
       "                                             '--learning_rate=0.01 '\n",
       "                                             '--batch_size=150',\n",
       "                                      'envVars': {'ENV1': 'ENV1'},\n",
       "                                      'image': 'gcr.io/kubeflow-ci/tf-mnist-with-summaries:1.0',\n",
       "                                      'name': 'tensorflow',\n",
       "                                      'version': '2.1.0'},\n",
       "                      'name': 'mnist',\n",
       "                      'namespace': 'submarine',\n",
       "                      'projects': None,\n",
       "                      'taskSpecs': {'Worker': {'cmd': None,\n",
       "                                               'envVars': None,\n",
       "                                               'image': None,\n",
       "                                               'name': 'tensorlfow',\n",
       "                                               'replicas': 1,\n",
       "                                               'resourceMap': {'cpu': '4',\n",
       "                                                               'memory': '2048M'},\n",
       "                                               'resources': 'cpu=4,memory=2048M'}}},\n",
       "             'status': 'Running',\n",
       "             'uid': '10b226b9-3710-40e9-9f13-9322e03dcb8d'}],\n",
       " 'success': True}"
      ]
     },
     "execution_count": 21,
     "metadata": {},
     "output_type": "execute_result"
    }
   ],
   "source": [
    "status = 'running'\n",
    "submarine_client.list_job(status=status)"
   ]
  },
  {
   "cell_type": "markdown",
   "metadata": {},
   "source": [
    "### Get specific experiment training log "
   ]
  },
  {
   "cell_type": "code",
   "execution_count": 24,
   "metadata": {
    "pycharm": {
     "name": "#%%\n"
    }
   },
   "outputs": [
    {
     "data": {
      "text/plain": [
       "{'attributes': {},\n",
       " 'code': 200,\n",
       " 'result': {'jobId': 'job_1590056548552_0001',\n",
       "            'logContent': [{'podLog': 'WARNING:tensorflow:From '\n",
       "                                      '/var/tf_mnist/mnist_with_summaries.py:39: '\n",
       "                                      'read_data_sets (from '\n",
       "                                      'tensorflow.contrib.learn.python.learn.datasets.mnist) '\n",
       "                                      'is deprecated and will be removed in a '\n",
       "                                      'future version.\\n'\n",
       "                                      'Instructions for updating:\\n'\n",
       "                                      'Please use alternatives such as '\n",
       "                                      'official/mnist/dataset.py from '\n",
       "                                      'tensorflow/models.\\n'\n",
       "                                      'WARNING:tensorflow:From '\n",
       "                                      '/usr/local/lib/python2.7/dist-packages/tensorflow/contrib/learn/python/learn/datasets/mnist.py:260: '\n",
       "                                      'maybe_download (from '\n",
       "                                      'tensorflow.contrib.learn.python.learn.datasets.base) '\n",
       "                                      'is deprecated and will be removed in a '\n",
       "                                      'future version.\\n'\n",
       "                                      'Instructions for updating:\\n'\n",
       "                                      'Please write your own downloading '\n",
       "                                      'logic.\\n'\n",
       "                                      'WARNING:tensorflow:From '\n",
       "                                      '/usr/local/lib/python2.7/dist-packages/tensorflow/contrib/learn/python/learn/datasets/base.py:252: '\n",
       "                                      'wrapped_fn (from '\n",
       "                                      'tensorflow.contrib.learn.python.learn.datasets.base) '\n",
       "                                      'is deprecated and will be removed in a '\n",
       "                                      'future version.\\n'\n",
       "                                      'Instructions for updating:\\n'\n",
       "                                      'Please use urllib or similar directly.\\n'\n",
       "                                      'WARNING:tensorflow:From '\n",
       "                                      '/usr/local/lib/python2.7/dist-packages/tensorflow/contrib/learn/python/learn/datasets/mnist.py:262: '\n",
       "                                      'extract_images (from '\n",
       "                                      'tensorflow.contrib.learn.python.learn.datasets.mnist) '\n",
       "                                      'is deprecated and will be removed in a '\n",
       "                                      'future version.\\n'\n",
       "                                      'Instructions for updating:\\n'\n",
       "                                      'Please use tf.data to implement this '\n",
       "                                      'functionality.\\n'\n",
       "                                      'WARNING:tensorflow:From '\n",
       "                                      '/usr/local/lib/python2.7/dist-packages/tensorflow/contrib/learn/python/learn/datasets/mnist.py:267: '\n",
       "                                      'extract_labels (from '\n",
       "                                      'tensorflow.contrib.learn.python.learn.datasets.mnist) '\n",
       "                                      'is deprecated and will be removed in a '\n",
       "                                      'future version.\\n'\n",
       "                                      'Instructions for updating:\\n'\n",
       "                                      'Please use tf.data to implement this '\n",
       "                                      'functionality.\\n'\n",
       "                                      'WARNING:tensorflow:From '\n",
       "                                      '/usr/local/lib/python2.7/dist-packages/tensorflow/contrib/learn/python/learn/datasets/mnist.py:290: '\n",
       "                                      '__init__ (from '\n",
       "                                      'tensorflow.contrib.learn.python.learn.datasets.mnist) '\n",
       "                                      'is deprecated and will be removed in a '\n",
       "                                      'future version.\\n'\n",
       "                                      'Instructions for updating:\\n'\n",
       "                                      'Please use alternatives such as '\n",
       "                                      'official/mnist/dataset.py from '\n",
       "                                      'tensorflow/models.\\n'\n",
       "                                      '2020-05-21 10:23:16.050386: I '\n",
       "                                      'tensorflow/core/platform/cpu_feature_guard.cc:141] '\n",
       "                                      'Your CPU supports instructions that '\n",
       "                                      'this TensorFlow binary was not compiled '\n",
       "                                      'to use: AVX2 FMA\\n'\n",
       "                                      'Successfully downloaded '\n",
       "                                      'train-images-idx3-ubyte.gz 9912422 '\n",
       "                                      'bytes.\\n'\n",
       "                                      'Extracting '\n",
       "                                      '/tmp/tensorflow/mnist/input_data/train-images-idx3-ubyte.gz\\n'\n",
       "                                      'Successfully downloaded '\n",
       "                                      'train-labels-idx1-ubyte.gz 28881 '\n",
       "                                      'bytes.\\n'\n",
       "                                      'Extracting '\n",
       "                                      '/tmp/tensorflow/mnist/input_data/train-labels-idx1-ubyte.gz\\n'\n",
       "                                      'Successfully downloaded '\n",
       "                                      't10k-images-idx3-ubyte.gz 1648877 '\n",
       "                                      'bytes.\\n'\n",
       "                                      'Extracting '\n",
       "                                      '/tmp/tensorflow/mnist/input_data/t10k-images-idx3-ubyte.gz\\n'\n",
       "                                      'Successfully downloaded '\n",
       "                                      't10k-labels-idx1-ubyte.gz 4542 bytes.\\n'\n",
       "                                      'Extracting '\n",
       "                                      '/tmp/tensorflow/mnist/input_data/t10k-labels-idx1-ubyte.gz\\n'\n",
       "                                      'Accuracy at step 0: 0.1102\\n'\n",
       "                                      'Accuracy at step 10: 0.6304\\n'\n",
       "                                      'Accuracy at step 20: 0.8477\\n'\n",
       "                                      'Accuracy at step 30: 0.886\\n'\n",
       "                                      'Accuracy at step 40: 0.9034\\n'\n",
       "                                      'Accuracy at step 50: 0.9165\\n'\n",
       "                                      'Accuracy at step 60: 0.9248\\n'\n",
       "                                      'Accuracy at step 70: 0.9211\\n'\n",
       "                                      'Accuracy at step 80: 0.9304\\n'\n",
       "                                      'Accuracy at step 90: 0.9333\\n'\n",
       "                                      'Adding run metadata for 99\\n'\n",
       "                                      'Accuracy at step 100: 0.9388\\n'\n",
       "                                      'Accuracy at step 110: 0.9345\\n'\n",
       "                                      'Accuracy at step 120: 0.9427\\n'\n",
       "                                      'Accuracy at step 130: 0.9452\\n'\n",
       "                                      'Accuracy at step 140: 0.9393\\n'\n",
       "                                      'Accuracy at step 150: 0.9474\\n'\n",
       "                                      'Accuracy at step 160: 0.9506\\n'\n",
       "                                      'Accuracy at step 170: 0.9539\\n'\n",
       "                                      'Accuracy at step 180: 0.9491\\n'\n",
       "                                      'Accuracy at step 190: 0.946\\n'\n",
       "                                      'Adding run metadata for 199\\n'\n",
       "                                      'Accuracy at step 200: 0.9524\\n'\n",
       "                                      'Accuracy at step 210: 0.9466\\n'\n",
       "                                      'Accuracy at step 220: 0.9466\\n'\n",
       "                                      'Accuracy at step 230: 0.9516\\n'\n",
       "                                      'Accuracy at step 240: 0.9521\\n'\n",
       "                                      'Accuracy at step 250: 0.9516\\n'\n",
       "                                      'Accuracy at step 260: 0.9511\\n'\n",
       "                                      'Accuracy at step 270: 0.9515\\n'\n",
       "                                      'Accuracy at step 280: 0.9535\\n'\n",
       "                                      'Accuracy at step 290: 0.956\\n'\n",
       "                                      'Adding run metadata for 299\\n'\n",
       "                                      'Accuracy at step 300: 0.9594\\n'\n",
       "                                      'Accuracy at step 310: 0.9584\\n'\n",
       "                                      'Accuracy at step 320: 0.9595\\n'\n",
       "                                      'Accuracy at step 330: 0.9584\\n'\n",
       "                                      'Accuracy at step 340: 0.9605\\n'\n",
       "                                      'Accuracy at step 350: 0.9593\\n'\n",
       "                                      'Accuracy at step 360: 0.9637\\n'\n",
       "                                      'Accuracy at step 370: 0.9598\\n'\n",
       "                                      'Accuracy at step 380: 0.96\\n'\n",
       "                                      'Accuracy at step 390: 0.9576\\n'\n",
       "                                      'Adding run metadata for 399\\n'\n",
       "                                      'Accuracy at step 400: 0.9589\\n'\n",
       "                                      'Accuracy at step 410: 0.9587\\n'\n",
       "                                      'Accuracy at step 420: 0.9643\\n'\n",
       "                                      'Accuracy at step 430: 0.9626\\n'\n",
       "                                      'Accuracy at step 440: 0.964\\n'\n",
       "                                      'Accuracy at step 450: 0.9641\\n'\n",
       "                                      'Accuracy at step 460: 0.9622\\n'\n",
       "                                      'Accuracy at step 470: 0.9634\\n'\n",
       "                                      'Accuracy at step 480: 0.9669\\n'\n",
       "                                      'Accuracy at step 490: 0.9675\\n'\n",
       "                                      'Adding run metadata for 499\\n'\n",
       "                                      'Accuracy at step 500: 0.9599\\n'\n",
       "                                      'Accuracy at step 510: 0.9653\\n'\n",
       "                                      'Accuracy at step 520: 0.9665\\n'\n",
       "                                      'Accuracy at step 530: 0.9643\\n'\n",
       "                                      'Accuracy at step 540: 0.96\\n'\n",
       "                                      'Accuracy at step 550: 0.9582\\n'\n",
       "                                      'Accuracy at step 560: 0.9644\\n'\n",
       "                                      'Accuracy at step 570: 0.9587\\n'\n",
       "                                      'Accuracy at step 580: 0.9662\\n'\n",
       "                                      'Accuracy at step 590: 0.9612\\n'\n",
       "                                      'Adding run metadata for 599\\n'\n",
       "                                      'Accuracy at step 600: 0.9574\\n'\n",
       "                                      'Accuracy at step 610: 0.9643\\n'\n",
       "                                      'Accuracy at step 620: 0.9665\\n'\n",
       "                                      'Accuracy at step 630: 0.9657\\n'\n",
       "                                      'Accuracy at step 640: 0.9659\\n'\n",
       "                                      'Accuracy at step 650: 0.9644\\n'\n",
       "                                      'Accuracy at step 660: 0.9683\\n'\n",
       "                                      'Accuracy at step 670: 0.969\\n'\n",
       "                                      'Accuracy at step 680: 0.9618\\n'\n",
       "                                      'Accuracy at step 690: 0.968\\n'\n",
       "                                      'Adding run metadata for 699\\n'\n",
       "                                      'Accuracy at step 700: 0.9641\\n'\n",
       "                                      'Accuracy at step 710: 0.9681\\n'\n",
       "                                      'Accuracy at step 720: 0.967\\n'\n",
       "                                      'Accuracy at step 730: 0.9661\\n'\n",
       "                                      'Accuracy at step 740: 0.9679\\n'\n",
       "                                      'Accuracy at step 750: 0.9676\\n'\n",
       "                                      'Accuracy at step 760: 0.9681\\n'\n",
       "                                      'Accuracy at step 770: 0.9668\\n'\n",
       "                                      'Accuracy at step 780: 0.9657\\n'\n",
       "                                      'Accuracy at step 790: 0.9597\\n'\n",
       "                                      'Adding run metadata for 799\\n'\n",
       "                                      'Accuracy at step 800: 0.964\\n'\n",
       "                                      'Accuracy at step 810: 0.9655\\n'\n",
       "                                      'Accuracy at step 820: 0.966\\n'\n",
       "                                      'Accuracy at step 830: 0.9706\\n'\n",
       "                                      'Accuracy at step 840: 0.9702\\n'\n",
       "                                      'Accuracy at step 850: 0.969\\n'\n",
       "                                      'Accuracy at step 860: 0.97\\n'\n",
       "                                      'Accuracy at step 870: 0.9712\\n'\n",
       "                                      'Accuracy at step 880: 0.9677\\n'\n",
       "                                      'Accuracy at step 890: 0.9655\\n'\n",
       "                                      'Adding run metadata for 899\\n'\n",
       "                                      'Accuracy at step 900: 0.9696\\n'\n",
       "                                      'Accuracy at step 910: 0.9718\\n'\n",
       "                                      'Accuracy at step 920: 0.9708\\n'\n",
       "                                      'Accuracy at step 930: 0.971\\n'\n",
       "                                      'Accuracy at step 940: 0.9697\\n'\n",
       "                                      'Accuracy at step 950: 0.9698\\n'\n",
       "                                      'Accuracy at step 960: 0.969\\n'\n",
       "                                      'Accuracy at step 970: 0.9685\\n'\n",
       "                                      'Accuracy at step 980: 0.968\\n'\n",
       "                                      'Accuracy at step 990: 0.9682\\n'\n",
       "                                      'Adding run metadata for 999\\n',\n",
       "                            'podName': 'mnist-worker-0'}]},\n",
       " 'success': True}"
      ]
     },
     "execution_count": 24,
     "metadata": {},
     "output_type": "execute_result"
    }
   ],
   "source": [
    "submarine_client.get_log(id)"
   ]
  },
  {
   "cell_type": "markdown",
   "metadata": {},
   "source": [
    "### Delete the experiment"
   ]
  },
  {
   "cell_type": "code",
   "execution_count": 25,
   "metadata": {
    "pycharm": {
     "name": "#%%\n"
    }
   },
   "outputs": [
    {
     "data": {
      "text/plain": [
       "{'attributes': {},\n",
       " 'code': 200,\n",
       " 'result': {'acceptedTime': '2020-05-21T18:23:09.000+08:00',\n",
       "            'createdTime': '2020-05-21T18:23:09.000+08:00',\n",
       "            'finishedTime': '2020-05-21T18:35:44.000+08:00',\n",
       "            'jobId': 'job_1590056548552_0001',\n",
       "            'name': 'mnist',\n",
       "            'runningTime': '2020-05-21T18:23:11.000+08:00',\n",
       "            'spec': {'librarySpec': {'cmd': 'python '\n",
       "                                            '/var/tf_mnist/mnist_with_summaries.py '\n",
       "                                            '--log_dir=/train/log '\n",
       "                                            '--learning_rate=0.01 '\n",
       "                                            '--batch_size=150',\n",
       "                                     'envVars': {'ENV1': 'ENV1'},\n",
       "                                     'image': 'gcr.io/kubeflow-ci/tf-mnist-with-summaries:1.0',\n",
       "                                     'name': 'tensorflow',\n",
       "                                     'version': '2.1.0'},\n",
       "                     'name': 'mnist',\n",
       "                     'namespace': 'submarine',\n",
       "                     'projects': None,\n",
       "                     'taskSpecs': {'Worker': {'cmd': None,\n",
       "                                              'envVars': None,\n",
       "                                              'image': None,\n",
       "                                              'name': 'tensorlfow',\n",
       "                                              'replicas': 1,\n",
       "                                              'resourceMap': {'cpu': '4',\n",
       "                                                              'memory': '2048M'},\n",
       "                                              'resources': 'cpu=4,memory=2048M'}}},\n",
       "            'status': 'Deleted',\n",
       "            'uid': '10b226b9-3710-40e9-9f13-9322e03dcb8d'},\n",
       " 'success': True}"
      ]
     },
     "execution_count": 25,
     "metadata": {},
     "output_type": "execute_result"
    }
   ],
   "source": [
    "submarine_client.delete_job(id)"
   ]
  },
  {
   "cell_type": "code",
   "execution_count": null,
   "metadata": {},
   "outputs": [],
   "source": []
  }
 ],
 "metadata": {
  "kernelspec": {
   "display_name": "Python 3",
   "language": "python",
   "name": "python3"
  },
  "language_info": {
   "codemirror_mode": {
    "name": "ipython",
    "version": 3
   },
   "file_extension": ".py",
   "mimetype": "text/x-python",
   "name": "python",
   "nbconvert_exporter": "python",
   "pygments_lexer": "ipython3",
   "version": "3.7.6"
  },
  "pycharm": {
   "stem_cell": {
    "cell_type": "raw",
    "source": [],
    "metadata": {
     "collapsed": false
    }
   }
  }
 },
 "nbformat": 4,
 "nbformat_minor": 1
}
